{
  "nbformat": 4,
  "nbformat_minor": 0,
  "metadata": {
    "colab": {
      "name": "WebScrapingZapImoveis.ipynb",
      "provenance": [],
      "collapsed_sections": [],
      "authorship_tag": "ABX9TyOcV1nvCeyicoH98Lj85Udq",
      "include_colab_link": true
    },
    "kernelspec": {
      "name": "python3",
      "display_name": "Python 3"
    }
  },
  "cells": [
    {
      "cell_type": "markdown",
      "metadata": {
        "id": "view-in-github",
        "colab_type": "text"
      },
      "source": [
        "<a href=\"https://colab.research.google.com/github/vserta/webscraping/blob/main/WebScrapingZapImoveis.ipynb\" target=\"_parent\"><img src=\"https://colab.research.google.com/assets/colab-badge.svg\" alt=\"Open In Colab\"/></a>"
      ]
    },
    {
      "cell_type": "code",
      "metadata": {
        "id": "Q-fA2M8qcx9v"
      },
      "source": [
        "import requests\r\n",
        "from bs4 import BeautifulSoup\r\n",
        "import pandas as pd"
      ],
      "execution_count": 26,
      "outputs": []
    },
    {
      "cell_type": "code",
      "metadata": {
        "id": "2z5OE54NeU7X"
      },
      "source": [
        "headers = {'User-Agent': \r\n",
        "           'Mozilla/5.0 (X11; Linux x86_64) AppleWebKit/537.36 (KHTML, like Gecko) Chrome/47.0.2526.106 Safari/537.36'}\r\n",
        "url = \"https://www.zapimoveis.com.br/aluguel/apartamentos/rj+niteroi/?onde=,Rio%20de%20Janeiro,Niter%C3%B3i,,,,,,BR%3ERio%20de%20Janeiro%3ENULL%3ENiteroi,-22.885927,-43.115259&transacao=Aluguel&tipo=Im%C3%B3vel%20usado&tipoUnidade=Residencial,Apartamento&\"\r\n",
        "pageTree = requests.get(url, headers=headers)\r\n",
        "pageSoup = BeautifulSoup(pageTree.content, 'html.parser')"
      ],
      "execution_count": 23,
      "outputs": []
    },
    {
      "cell_type": "code",
      "metadata": {
        "id": "1PeIC2dunQ3Q"
      },
      "source": [
        "def converter_df(aluguel_lista,quartos_lista,endereco_lista,banheiro_lista,area_lista):\r\n",
        "    data = {'aluguel':aluguel_lista,\r\n",
        "           'quartos':quartos_lista,\r\n",
        "           'endereco':endereco_lista,\r\n",
        "           'banheiro':banheiro_lista,\r\n",
        "           'area':area_lista}\r\n",
        "    df = pd.DataFrame(data)\r\n",
        "    return df"
      ],
      "execution_count": 41,
      "outputs": []
    },
    {
      "cell_type": "code",
      "metadata": {
        "id": "exrJMVpAoqfH"
      },
      "source": [
        "def scrap(url):\r\n",
        "    pageTree = requests.get(url, headers=headers)\r\n",
        "    pageSoup = BeautifulSoup(pageTree.content, 'html.parser')\r\n",
        "    \r\n",
        "    aluguel_tag = pageSoup.find_all('p',{'class':'simple-card__price js-price heading-regular heading-regular__bolder align-left'}) \r\n",
        "    aluguel_lista = [p.text for p in aluguel_tag] \r\n",
        "    #print(len(aluguel_lista)) \r\n",
        "    \r\n",
        "    quartos_tag = pageSoup.find_all('li',{'class':'feature__item text-small js-bedrooms'}) \r\n",
        "    quartos_lista = [en.text for en in quartos_tag] \r\n",
        "    #print(len(quartos_lista)) \r\n",
        "    \r\n",
        "    endereco_tag = pageSoup.find_all('p',{'class':'color-dark text-regular simple-card__address'}) \r\n",
        "    endereco_lista = [fg.text for fg in endereco_tag] \r\n",
        "    #print(len(endereco_lista)) \r\n",
        "    \r\n",
        "    banheiro_tag = pageSoup.find_all('li',{'class':'feature__item text-small js-bathrooms'}) \r\n",
        "    banheiro_lista = [yp.text for yp in banheiro_tag] \r\n",
        "    #print(len(banheiro_lista))   \r\n",
        "\r\n",
        "    area_tag = pageSoup.find_all('li',{'class':'feature__item text-small js-areas'}) \r\n",
        "    area_lista = [yp.text for yp in area_tag] \r\n",
        "\r\n",
        "\r\n",
        "    ### Vamos ter criar uma função para transformar listas em df\r\n",
        "    df=converter_df(aluguel_lista,quartos_lista,endereco_lista,banheiro_lista,area_lista)\r\n",
        "    \r\n",
        "    return df"
      ],
      "execution_count": 51,
      "outputs": []
    },
    {
      "cell_type": "code",
      "metadata": {
        "id": "9oxOoG1dpWMA"
      },
      "source": [
        "URL = \"https://www.zapimoveis.com.br/aluguel/apartamentos/rj+niteroi/?onde=,Rio%20de%20Janeiro,Niter%C3%B3i,,,,,,BR%3ERio%20de%20Janeiro%3ENULL%3ENiteroi,-22.885927,-43.115259&transacao=Aluguel&tipo=Im%C3%B3vel%20usado&tipoUnidade=Residencial,Apartamento&{}\""
      ],
      "execution_count": 43,
      "outputs": []
    },
    {
      "cell_type": "code",
      "metadata": {
        "colab": {
          "base_uri": "https://localhost:8080/"
        },
        "id": "S3HEh_0xgKl-",
        "outputId": "69fa73b0-283e-4071-89f6-ba64ba3c54fe"
      },
      "source": [
        "paginas = ['']\r\n",
        "for i in range(2,11):\r\n",
        "    a = '?pagina='+str(i)\r\n",
        "    print(a)\r\n",
        "    paginas.append(a)"
      ],
      "execution_count": 24,
      "outputs": [
        {
          "output_type": "stream",
          "text": [
            "?pagina=2\n",
            "?pagina=3\n",
            "?pagina=4\n",
            "?pagina=5\n",
            "?pagina=6\n",
            "?pagina=7\n",
            "?pagina=8\n",
            "?pagina=9\n",
            "?pagina=10\n"
          ],
          "name": "stdout"
        }
      ]
    },
    {
      "cell_type": "code",
      "metadata": {
        "colab": {
          "base_uri": "https://localhost:8080/"
        },
        "id": "COslIXyXqfMZ",
        "outputId": "72093283-a2f9-43e8-fa84-846382980034"
      },
      "source": [
        "df_lista = []\r\n",
        "for pg in paginas:\r\n",
        "    url = URL.format(pg)\r\n",
        "    print('Coletando URL:', url)\r\n",
        "    try:\r\n",
        "        df = scrap(url)\r\n",
        "    except Exception as e:\r\n",
        "        print('Erro ao coletar dados na url:', url)\r\n",
        "        print(e)\r\n",
        "    df_lista.append(df)\r\n",
        "\r\n",
        "df_final = pd.concat(df_lista)"
      ],
      "execution_count": 44,
      "outputs": [
        {
          "output_type": "stream",
          "text": [
            "Coletando URL: https://www.zapimoveis.com.br/aluguel/apartamentos/rj+niteroi/?onde=,Rio%20de%20Janeiro,Niter%C3%B3i,,,,,,BR%3ERio%20de%20Janeiro%3ENULL%3ENiteroi,-22.885927,-43.115259&transacao=Aluguel&tipo=Im%C3%B3vel%20usado&tipoUnidade=Residencial,Apartamento&\n",
            "Coletando URL: https://www.zapimoveis.com.br/aluguel/apartamentos/rj+niteroi/?onde=,Rio%20de%20Janeiro,Niter%C3%B3i,,,,,,BR%3ERio%20de%20Janeiro%3ENULL%3ENiteroi,-22.885927,-43.115259&transacao=Aluguel&tipo=Im%C3%B3vel%20usado&tipoUnidade=Residencial,Apartamento&?pagina=2\n",
            "Coletando URL: https://www.zapimoveis.com.br/aluguel/apartamentos/rj+niteroi/?onde=,Rio%20de%20Janeiro,Niter%C3%B3i,,,,,,BR%3ERio%20de%20Janeiro%3ENULL%3ENiteroi,-22.885927,-43.115259&transacao=Aluguel&tipo=Im%C3%B3vel%20usado&tipoUnidade=Residencial,Apartamento&?pagina=3\n",
            "Coletando URL: https://www.zapimoveis.com.br/aluguel/apartamentos/rj+niteroi/?onde=,Rio%20de%20Janeiro,Niter%C3%B3i,,,,,,BR%3ERio%20de%20Janeiro%3ENULL%3ENiteroi,-22.885927,-43.115259&transacao=Aluguel&tipo=Im%C3%B3vel%20usado&tipoUnidade=Residencial,Apartamento&?pagina=4\n",
            "Coletando URL: https://www.zapimoveis.com.br/aluguel/apartamentos/rj+niteroi/?onde=,Rio%20de%20Janeiro,Niter%C3%B3i,,,,,,BR%3ERio%20de%20Janeiro%3ENULL%3ENiteroi,-22.885927,-43.115259&transacao=Aluguel&tipo=Im%C3%B3vel%20usado&tipoUnidade=Residencial,Apartamento&?pagina=5\n",
            "Coletando URL: https://www.zapimoveis.com.br/aluguel/apartamentos/rj+niteroi/?onde=,Rio%20de%20Janeiro,Niter%C3%B3i,,,,,,BR%3ERio%20de%20Janeiro%3ENULL%3ENiteroi,-22.885927,-43.115259&transacao=Aluguel&tipo=Im%C3%B3vel%20usado&tipoUnidade=Residencial,Apartamento&?pagina=6\n",
            "Coletando URL: https://www.zapimoveis.com.br/aluguel/apartamentos/rj+niteroi/?onde=,Rio%20de%20Janeiro,Niter%C3%B3i,,,,,,BR%3ERio%20de%20Janeiro%3ENULL%3ENiteroi,-22.885927,-43.115259&transacao=Aluguel&tipo=Im%C3%B3vel%20usado&tipoUnidade=Residencial,Apartamento&?pagina=7\n",
            "Coletando URL: https://www.zapimoveis.com.br/aluguel/apartamentos/rj+niteroi/?onde=,Rio%20de%20Janeiro,Niter%C3%B3i,,,,,,BR%3ERio%20de%20Janeiro%3ENULL%3ENiteroi,-22.885927,-43.115259&transacao=Aluguel&tipo=Im%C3%B3vel%20usado&tipoUnidade=Residencial,Apartamento&?pagina=8\n",
            "Coletando URL: https://www.zapimoveis.com.br/aluguel/apartamentos/rj+niteroi/?onde=,Rio%20de%20Janeiro,Niter%C3%B3i,,,,,,BR%3ERio%20de%20Janeiro%3ENULL%3ENiteroi,-22.885927,-43.115259&transacao=Aluguel&tipo=Im%C3%B3vel%20usado&tipoUnidade=Residencial,Apartamento&?pagina=9\n",
            "Coletando URL: https://www.zapimoveis.com.br/aluguel/apartamentos/rj+niteroi/?onde=,Rio%20de%20Janeiro,Niter%C3%B3i,,,,,,BR%3ERio%20de%20Janeiro%3ENULL%3ENiteroi,-22.885927,-43.115259&transacao=Aluguel&tipo=Im%C3%B3vel%20usado&tipoUnidade=Residencial,Apartamento&?pagina=10\n"
          ],
          "name": "stdout"
        }
      ]
    },
    {
      "cell_type": "code",
      "metadata": {
        "id": "GxnI_g7VtlQA"
      },
      "source": [
        "df_final = df_final.replace('\\n','',regex=True)"
      ],
      "execution_count": 49,
      "outputs": []
    },
    {
      "cell_type": "code",
      "metadata": {
        "colab": {
          "base_uri": "https://localhost:8080/",
          "height": 195
        },
        "id": "33ou55QPuR_f",
        "outputId": "dc4e89d2-2d43-40a6-cc90-bbee8bd30779"
      },
      "source": [
        "df_final.head()"
      ],
      "execution_count": 50,
      "outputs": [
        {
          "output_type": "execute_result",
          "data": {
            "text/html": [
              "<div>\n",
              "<style scoped>\n",
              "    .dataframe tbody tr th:only-of-type {\n",
              "        vertical-align: middle;\n",
              "    }\n",
              "\n",
              "    .dataframe tbody tr th {\n",
              "        vertical-align: top;\n",
              "    }\n",
              "\n",
              "    .dataframe thead th {\n",
              "        text-align: right;\n",
              "    }\n",
              "</style>\n",
              "<table border=\"1\" class=\"dataframe\">\n",
              "  <thead>\n",
              "    <tr style=\"text-align: right;\">\n",
              "      <th></th>\n",
              "      <th>aluguel</th>\n",
              "      <th>quartos</th>\n",
              "      <th>endereco</th>\n",
              "      <th>banheiro</th>\n",
              "      <th>area</th>\n",
              "    </tr>\n",
              "  </thead>\n",
              "  <tbody>\n",
              "    <tr>\n",
              "      <th>0</th>\n",
              "      <td>R$ 1.700    /mês</td>\n",
              "      <td>2</td>\n",
              "      <td>Avenida Jornalista Alberto Francisco Torres, I...</td>\n",
              "      <td>2</td>\n",
              "      <td>82 m²</td>\n",
              "    </tr>\n",
              "    <tr>\n",
              "      <th>1</th>\n",
              "      <td>R$ 1.500    /mês</td>\n",
              "      <td>2</td>\n",
              "      <td>Travessa Dom Bosco, Icaraí</td>\n",
              "      <td>3</td>\n",
              "      <td>90 m²</td>\n",
              "    </tr>\n",
              "    <tr>\n",
              "      <th>2</th>\n",
              "      <td>R$ 1.150    /mês</td>\n",
              "      <td>2</td>\n",
              "      <td>Rua Tiradentes, Ingá</td>\n",
              "      <td>2</td>\n",
              "      <td>70 m²</td>\n",
              "    </tr>\n",
              "    <tr>\n",
              "      <th>3</th>\n",
              "      <td>R$ 3.000    /mês</td>\n",
              "      <td>2</td>\n",
              "      <td>Santa Rosa, Niterói</td>\n",
              "      <td>2</td>\n",
              "      <td>98 m²</td>\n",
              "    </tr>\n",
              "    <tr>\n",
              "      <th>4</th>\n",
              "      <td>R$ 1.500    /mês</td>\n",
              "      <td>2</td>\n",
              "      <td>Rua Roberto Rowley Mendes, Boa Viagem</td>\n",
              "      <td>2</td>\n",
              "      <td>70 m²</td>\n",
              "    </tr>\n",
              "  </tbody>\n",
              "</table>\n",
              "</div>"
            ],
            "text/plain": [
              "                aluguel  ...                   area\n",
              "0      R$ 1.700    /mês  ...          82 m²        \n",
              "1      R$ 1.500    /mês  ...          90 m²        \n",
              "2      R$ 1.150    /mês  ...          70 m²        \n",
              "3      R$ 3.000    /mês  ...          98 m²        \n",
              "4      R$ 1.500    /mês  ...          70 m²        \n",
              "\n",
              "[5 rows x 5 columns]"
            ]
          },
          "metadata": {
            "tags": []
          },
          "execution_count": 50
        }
      ]
    }
  ]
}